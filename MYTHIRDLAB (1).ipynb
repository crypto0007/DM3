{
 "cells": [
  {
   "cell_type": "code",
   "execution_count": 14,
   "metadata": {},
   "outputs": [],
   "source": [
    "import pandas as pd\n",
    "import seaborn as sns\n",
    "import matplotlib.pyplot as plt\n",
    "import numpy as np"
   ]
  },
  {
   "cell_type": "code",
   "execution_count": 6,
   "metadata": {},
   "outputs": [],
   "source": [
    "y = [4,55,21,33,5,92,33,5,91,33,9,29,99,105,39,45,6,62,65,25,10,73,85,11,79,20,56,45,21,8,65,70,30]\n",
    "df2 = pd.read_csv('see.csv')"
   ]
  },
  {
   "cell_type": "code",
   "execution_count": 7,
   "metadata": {},
   "outputs": [
    {
     "data": {
      "text/plain": [
       "<matplotlib.axes._subplots.AxesSubplot at 0x22ab6c67208>"
      ]
     },
     "execution_count": 7,
     "metadata": {},
     "output_type": "execute_result"
    },
    {
     "data": {
      "image/png": "[encoded data removed]",
      "text/plain": [
       "<Figure size 432x288 with 1 Axes>"
      ]
     },
     "metadata": {
      "needs_background": "light"
     },
     "output_type": "display_data"
    }
   ],
   "source": [
    "sns.boxplot(y='area_mean',color='black',data=df2)\n",
    "sns.swarmplot(y='area_mean',color='red',data=df2)"
   ]
  },
  {
   "cell_type": "code",
   "execution_count": 13,
   "metadata": {},
   "outputs": [
    {
     "name": "stdout",
     "output_type": "stream",
     "text": [
      "[4, 5, 5, 6, 8, 9, 10, 11, 20, 21, 21, 25, 29, 30, 33, 33, 33, 39, 45, 45, 55, 56, 62, 65, 65, 70, 73, 79, 85, 91, 92, 99, 105]\n"
     ]
    }
   ],
   "source": [
    "y.sort()\n",
    "print(y)"
   ]
  },
  {
   "cell_type": "code",
   "execution_count": 10,
   "metadata": {},
   "outputs": [
    {
     "name": "stdout",
     "output_type": "stream",
     "text": [
      "MAX 105\n"
     ]
    }
   ],
   "source": [
    "print('MAX',max(y))"
   ]
  },
  {
   "cell_type": "code",
   "execution_count": 19,
   "metadata": {},
   "outputs": [
    {
     "name": "stdout",
     "output_type": "stream",
     "text": [
      "Q1 20.0\n",
      "Q2 33.0\n",
      "Q3 65.0\n",
      "IQR 45.0\n",
      "MIN 132.5\n",
      "MAX -47.5\n"
     ]
    }
   ],
   "source": [
    "Q1=np.percentile(y,25)\n",
    "Q2=np.percentile(y,50)\n",
    "Q3=np.percentile(y,75)\n",
    "IQR=Q3-Q1\n",
    "MIN=Q3 + 1.5*IQR\n",
    "MAX=Q1 -1.5*IQR\n",
    "print('Q1',Q1)\n",
    "print('Q2',Q2)\n",
    "print('Q3',Q3)\n",
    "print('IQR',IQR)\n",
    "print('MIN',MIN)\n",
    "print('MAX',MAX)"
   ]
  },
  {
   "cell_type": "code",
   "execution_count": null,
   "metadata": {},
   "outputs": [],
   "source": []
  }
 ],
 "metadata": {
  "kernelspec": {
   "display_name": "Python 3",
   "language": "python",
   "name": "python3"
  },
  "language_info": {
   "codemirror_mode": {
    "name": "ipython",
    "version": 3
   },
   "file_extension": ".py",
   "mimetype": "text/x-python",
   "name": "python",
   "nbconvert_exporter": "python",
   "pygments_lexer": "ipython3",
   "version": "3.7.1"
  }
 },
 "nbformat": 4,
 "nbformat_minor": 2
}
